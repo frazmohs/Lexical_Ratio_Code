{
 "cells": [
  {
   "cell_type": "code",
   "execution_count": null,
   "id": "58218151",
   "metadata": {},
   "outputs": [],
   "source": [
    "import os\n",
    "import random\n",
    "\n",
    "# Path to the tickers file\n",
    "tickers_file_path = 'sp500_tickers.txt'\n",
    "\n",
    "# Read tickers from the txt file\n",
    "with open(tickers_file_path, 'r') as file:\n",
    "    tickers = file.read().splitlines()\n",
    "\n",
    "# Define the number of portfolios and the portfolio size\n",
    "num_portfolios = 3\n",
    "portfolio_size = 20\n",
    "output_dir = 'portfolios'\n",
    "\n",
    "# Create the output directory if it doesn't exist\n",
    "os.makedirs(output_dir, exist_ok=True)\n",
    "\n",
    "# Generate and store random portfolios\n",
    "for i in range(1, num_portfolios + 1):\n",
    "    random_portfolio = random.sample(tickers, portfolio_size)\n",
    "    portfolio_filename = f'random_portfolio_{i+2}.txt'\n",
    "    portfolio_path = os.path.join(output_dir, portfolio_filename)\n",
    "    \n",
    "    with open(portfolio_path, 'w') as portfolio_file:\n",
    "        portfolio_file.write('\\n'.join(random_portfolio))\n",
    "\n",
    "print(f\"Random portfolios saved in the '{output_dir}' directory.\")\n"
   ]
  },
  {
   "cell_type": "code",
   "execution_count": null,
   "id": "c4b82623",
   "metadata": {},
   "outputs": [],
   "source": [
    "import os\n",
    "import random\n",
    "\n",
    "# Define the path to the directory where the .txt files are located\n",
    "directory_path = \"portfolios\"\n",
    "\n",
    "# Function to read two random stocks from a file\n",
    "def get_random_stocks_from_file(file_path):\n",
    "    with open(file_path, 'r') as file:\n",
    "        stocks = file.read().splitlines()\n",
    "    return random.sample(stocks, 2)\n",
    "\n",
    "# Create two random portfolios\n",
    "portfolio_1 = []\n",
    "portfolio_2 = []\n",
    "\n",
    "# Iterate over each .txt file in the directory\n",
    "for filename in os.listdir(directory_path):\n",
    "    if filename.endswith(\".txt\"):\n",
    "        file_path = os.path.join(directory_path, filename)\n",
    "        # Get two random stocks from the current file\n",
    "        random_stocks = get_random_stocks_from_file(file_path)\n",
    "        # Add one stock to each portfolio\n",
    "        portfolio_1.append(random_stocks[0])\n",
    "        portfolio_2.append(random_stocks[1])\n",
    "\n",
    "# Write the two random portfolios to separate .txt files\n",
    "portfolio_1_path = os.path.join(directory_path, \"random_portfolio_1.txt\")\n",
    "portfolio_2_path = os.path.join(directory_path, \"random_portfolio_2.txt\")\n",
    "\n",
    "with open(portfolio_1_path, 'w') as file:\n",
    "    file.write(\"\\n\".join(portfolio_1))\n",
    "\n",
    "with open(portfolio_2_path, 'w') as file:\n",
    "    file.write(\"\\n\".join(portfolio_2))\n",
    "\n",
    "print(f\"Random Portfolio 1 saved to {portfolio_1_path}\")\n",
    "print(f\"Random Portfolio 2 saved to {portfolio_2_path}\")\n"
   ]
  },
  {
   "cell_type": "code",
   "execution_count": null,
   "id": "d0d29516",
   "metadata": {},
   "outputs": [],
   "source": []
  }
 ],
 "metadata": {
  "kernelspec": {
   "display_name": "Python 3 (ipykernel)",
   "language": "python",
   "name": "python3"
  },
  "language_info": {
   "codemirror_mode": {
    "name": "ipython",
    "version": 3
   },
   "file_extension": ".py",
   "mimetype": "text/x-python",
   "name": "python",
   "nbconvert_exporter": "python",
   "pygments_lexer": "ipython3",
   "version": "3.10.9"
  }
 },
 "nbformat": 4,
 "nbformat_minor": 5
}
